{
 "cells": [
  {
   "cell_type": "code",
   "execution_count": 53,
   "metadata": {},
   "outputs": [
    {
     "name": "stdout",
     "output_type": "stream",
     "text": [
      "3*3 matrix multiplication using numpy dot method with the help of arrays\n",
      "Output: [[17 42 22]\n",
      " [22 37 22]\n",
      " [31 46 26]]\n",
      "\n",
      " Mean of the elements: 29.444444444444443\n",
      "\n",
      " Maximum number of elements: 46\n",
      "\n",
      " Minimum number elements are 17\n",
      "\n",
      " standard deviation of 3*3 matrix is  9.569756888948655\n",
      "\n",
      " variance of 3*3 matrix is 91.58024691358024\n",
      "\n",
      " we can find mean, max, min, std, variance using axis but the it may vary the average values. \n",
      " for example: Mean of the Elements [23.33333333 41.66666667 23.33333333]\n"
     ]
    }
   ],
   "source": [
    "import numpy as np\n",
    "matrix1 =  np.array([[1,4,2], [2,3,2], [3,4,2]])\n",
    "matrix2 =  np.array([[7,2,2], [2,7,2], [1,6,6]])\n",
    "\n",
    "result_matrix = matrix1.dot(matrix2)\n",
    "print(\"3*3 matrix multiplication using numpy dot method with the help of arrays\")\n",
    "print(\"Output:\",result_matrix)\n",
    "\n",
    "mean = np.mean(result_matrix)\n",
    "print(\"\\n Mean of the elements:\",mean)\n",
    "maximum = np.max(result_matrix)\n",
    "print(\"\\n Maximum number of elements:\", maximum)\n",
    "minimum = np.min(result_matrix)\n",
    "print(\"\\n Minimum number elements are\", minimum)\n",
    "std = np.std(result_matrix)\n",
    "print(\"\\n standard deviation of 3*3 matrix is \", std)\n",
    "variance = np.var(result_matrix)\n",
    "print(\"\\n variance of 3*3 matrix is\", variance)\n",
    "\n",
    "print(\"\\n we can find mean, max, min, std, variance using axis but the it may vary the average values. \")\n",
    "mean_axis =np.mean(result_matrix, axis =0) \n",
    "print(\" for example: Mean of the Elements\",mean_axis)"
   ]
  },
  {
   "cell_type": "code",
   "execution_count": null,
   "metadata": {},
   "outputs": [],
   "source": []
  }
 ],
 "metadata": {
  "kernelspec": {
   "display_name": "Python 3",
   "language": "python",
   "name": "python3"
  },
  "language_info": {
   "codemirror_mode": {
    "name": "ipython",
    "version": 3
   },
   "file_extension": ".py",
   "mimetype": "text/x-python",
   "name": "python",
   "nbconvert_exporter": "python",
   "pygments_lexer": "ipython3",
   "version": "3.8.5"
  }
 },
 "nbformat": 4,
 "nbformat_minor": 4
}
