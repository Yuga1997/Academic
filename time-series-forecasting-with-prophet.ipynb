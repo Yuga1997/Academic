{
 "cells": [
  {
   "cell_type": "code",
   "execution_count": 34,
   "metadata": {
    "_cell_guid": "b1076dfc-b9ad-4769-8c92-a6c4dae69d19",
    "_uuid": "8f2839f25d086af736a60e9eeb907d3b93b6e0e5"
   },
   "outputs": [],
   "source": [
    "import numpy as np\n",
    "import pandas as pd\n",
    "import seaborn as sns\n",
    "import matplotlib.pyplot as plt\n",
    "from fbprophet import Prophet\n",
    "from sklearn.metrics import mean_squared_error, mean_absolute_error\n",
    "plt.style.use('fivethirtyeight') \n",
    "yearly_seasonality=True"
   ]
  },
  {
   "cell_type": "code",
   "execution_count": 2,
   "metadata": {},
   "outputs": [],
   "source": [
    "import pandas as pd\n",
    "train = pd.read_csv(\"C:/Users/yugan/Documents/Artificial Intelligence/train.csv\")"
   ]
  },
  {
   "cell_type": "code",
   "execution_count": null,
   "metadata": {},
   "outputs": [],
   "source": []
  },
  {
   "cell_type": "code",
   "execution_count": 3,
   "metadata": {},
   "outputs": [],
   "source": [
    "train['application_date']=train['application_date'].astype('datetime64')"
   ]
  },
  {
   "cell_type": "code",
   "execution_count": 4,
   "metadata": {},
   "outputs": [],
   "source": [
    "train1=train[train['segment']==1].groupby(['application_date'])['case_count'].sum().reset_index()"
   ]
  },
  {
   "cell_type": "code",
   "execution_count": 5,
   "metadata": {},
   "outputs": [],
   "source": [
    "train2=train[train['segment']==2].groupby(['application_date'])['case_count'].sum().reset_index()"
   ]
  },
  {
   "cell_type": "code",
   "execution_count": 6,
   "metadata": {},
   "outputs": [
    {
     "name": "stdout",
     "output_type": "stream",
     "text": [
      "892.633939339763\n"
     ]
    },
    {
     "name": "stderr",
     "output_type": "stream",
     "text": [
      "C:\\Users\\yugan\\Anaconda3\\lib\\site-packages\\seaborn\\_decorators.py:36: FutureWarning: Pass the following variable as a keyword arg: x. From version 0.12, the only valid positional argument will be `data`, and passing other arguments without an explicit keyword will result in an error or misinterpretation.\n",
      "  warnings.warn(\n"
     ]
    },
    {
     "data": {
      "image/png": "[encoded data removed]",
      "text/plain": [
       "<Figure size 432x288 with 1 Axes>"
      ]
     },
     "metadata": {},
     "output_type": "display_data"
    }
   ],
   "source": [
    "import seaborn as sns\n",
    "sns.boxplot('case_count',data=train1)\n",
    "Q1 = train1['case_count'].quantile(0.25)\n",
    "Q3 = train1['case_count'].quantile(0.75)\n",
    "IQR = Q3 - Q1\n",
    "print(IQR)"
   ]
  },
  {
   "cell_type": "code",
   "execution_count": 7,
   "metadata": {},
   "outputs": [],
   "source": [
    "train1 = train1[~((train1['case_count'] < (Q1 - 1.5 * IQR)) |(train1['case_count'] > (Q3 + 1.5 * IQR)))]"
   ]
  },
  {
   "cell_type": "markdown",
   "metadata": {},
   "source": []
  },
  {
   "cell_type": "code",
   "execution_count": 8,
   "metadata": {},
   "outputs": [
    {
     "data": {
      "text/html": [
       "<div>\n",
       "<style scoped>\n",
       "    .dataframe tbody tr th:only-of-type {\n",
       "        vertical-align: middle;\n",
       "    }\n",
       "\n",
       "    .dataframe tbody tr th {\n",
       "        vertical-align: top;\n",
       "    }\n",
       "\n",
       "    .dataframe thead th {\n",
       "        text-align: right;\n",
       "    }\n",
       "</style>\n",
       "<table border=\"1\" class=\"dataframe\">\n",
       "  <thead>\n",
       "    <tr style=\"text-align: right;\">\n",
       "      <th></th>\n",
       "      <th>application_date</th>\n",
       "      <th>case_count</th>\n",
       "    </tr>\n",
       "  </thead>\n",
       "  <tbody>\n",
       "    <tr>\n",
       "      <th>0</th>\n",
       "      <td>2019-07-06</td>\n",
       "      <td>2996.203594</td>\n",
       "    </tr>\n",
       "    <tr>\n",
       "      <th>2</th>\n",
       "      <td>2019-07-08</td>\n",
       "      <td>3794.600600</td>\n",
       "    </tr>\n",
       "    <tr>\n",
       "      <th>3</th>\n",
       "      <td>2019-07-09</td>\n",
       "      <td>3467.728304</td>\n",
       "    </tr>\n",
       "    <tr>\n",
       "      <th>4</th>\n",
       "      <td>2019-07-10</td>\n",
       "      <td>3803.340273</td>\n",
       "    </tr>\n",
       "    <tr>\n",
       "      <th>5</th>\n",
       "      <td>2019-07-11</td>\n",
       "      <td>3737.827113</td>\n",
       "    </tr>\n",
       "    <tr>\n",
       "      <th>...</th>\n",
       "      <td>...</td>\n",
       "      <td>...</td>\n",
       "    </tr>\n",
       "    <tr>\n",
       "      <th>82</th>\n",
       "      <td>2019-09-26</td>\n",
       "      <td>4923.476931</td>\n",
       "    </tr>\n",
       "    <tr>\n",
       "      <th>83</th>\n",
       "      <td>2019-09-27</td>\n",
       "      <td>4992.651487</td>\n",
       "    </tr>\n",
       "    <tr>\n",
       "      <th>84</th>\n",
       "      <td>2019-09-28</td>\n",
       "      <td>4543.352040</td>\n",
       "    </tr>\n",
       "    <tr>\n",
       "      <th>85</th>\n",
       "      <td>2019-09-29</td>\n",
       "      <td>3794.632690</td>\n",
       "    </tr>\n",
       "    <tr>\n",
       "      <th>86</th>\n",
       "      <td>2019-09-30</td>\n",
       "      <td>5341.749047</td>\n",
       "    </tr>\n",
       "  </tbody>\n",
       "</table>\n",
       "<p>85 rows × 2 columns</p>\n",
       "</div>"
      ],
      "text/plain": [
       "   application_date   case_count\n",
       "0        2019-07-06  2996.203594\n",
       "2        2019-07-08  3794.600600\n",
       "3        2019-07-09  3467.728304\n",
       "4        2019-07-10  3803.340273\n",
       "5        2019-07-11  3737.827113\n",
       "..              ...          ...\n",
       "82       2019-09-26  4923.476931\n",
       "83       2019-09-27  4992.651487\n",
       "84       2019-09-28  4543.352040\n",
       "85       2019-09-29  3794.632690\n",
       "86       2019-09-30  5341.749047\n",
       "\n",
       "[85 rows x 2 columns]"
      ]
     },
     "execution_count": 8,
     "metadata": {},
     "output_type": "execute_result"
    }
   ],
   "source": [
    "train1"
   ]
  },
  {
   "cell_type": "markdown",
   "metadata": {
    "_uuid": "102c0bcb9cfc3be70922d8a308d4e29f02002c3e"
   },
   "source": [
    "# Data\n",
    "The data we will be using is hourly power consumption data from PJM. Energy consumtion has some unique charachteristics. It will be interesting to see how prophet picks them up.\n",
    "\n",
    "Pulling the `PJM East` which has data from 2002-2018 for the entire east region."
   ]
  },
  {
   "cell_type": "code",
   "execution_count": 9,
   "metadata": {
    "_uuid": "82afdedabfa910d2fd310cb0bb016679c47f146b"
   },
   "outputs": [
    {
     "name": "stderr",
     "output_type": "stream",
     "text": [
      "<ipython-input-9-d982aeac0829>:13: FutureWarning: Series.dt.weekofyear and Series.dt.week have been deprecated.  Please use Series.dt.isocalendar().week instead.\n",
      "  df['weekofyear'] = df['application_date'].dt.weekofyear\n"
     ]
    }
   ],
   "source": [
    "def create_features(df, label=None):\n",
    "    \"\"\"\n",
    "    Creates time series features from application_datetime index.\n",
    "    \"\"\"\n",
    "    df = df.copy()\n",
    "  \n",
    "    df['dayofweek'] = df['application_date'].dt.dayofweek\n",
    "    df['quarter'] = df['application_date'].dt.quarter\n",
    "    df['month'] = df['application_date'].dt.month\n",
    "    df['year'] = df['application_date'].dt.year\n",
    "    df['dayofyear'] = df['application_date'].dt.dayofyear\n",
    "    df['dayofmonth'] = df['application_date'].dt.day\n",
    "    df['weekofyear'] = df['application_date'].dt.weekofyear\n",
    "    \n",
    "    X = df[['dayofweek','quarter','month','year',\n",
    "           'dayofyear','dayofmonth','weekofyear']]\n",
    "    if label:\n",
    "        y = df[label]\n",
    "        return X, y\n",
    "    return X\n",
    "\n",
    "X, y = create_features(train1, label='case_count')\n",
    "\n",
    "features_and_target = pd.concat([X, y], axis=1)"
   ]
  },
  {
   "cell_type": "code",
   "execution_count": 10,
   "metadata": {},
   "outputs": [
    {
     "name": "stderr",
     "output_type": "stream",
     "text": [
      "<ipython-input-9-d982aeac0829>:13: FutureWarning: Series.dt.weekofyear and Series.dt.week have been deprecated.  Please use Series.dt.isocalendar().week instead.\n",
      "  df['weekofyear'] = df['application_date'].dt.weekofyear\n"
     ]
    }
   ],
   "source": [
    "X, y = create_features(train2, label='case_count')\n",
    "features_and_target1 = pd.concat([X, y], axis=1)"
   ]
  },
  {
   "cell_type": "code",
   "execution_count": 11,
   "metadata": {},
   "outputs": [],
   "source": [
    "features_and_target['ds']=train1['application_date'].astype('datetime64')"
   ]
  },
  {
   "cell_type": "code",
   "execution_count": 12,
   "metadata": {},
   "outputs": [],
   "source": [
    "features_and_target1['ds']=train2['application_date'].astype('datetime64')"
   ]
  },
  {
   "cell_type": "code",
   "execution_count": 13,
   "metadata": {
    "_uuid": "9b20880cc5ff6c0374b9dd17c46daa337f03c9b3"
   },
   "outputs": [],
   "source": [
    "# See our features and target\n",
    "\n",
    "features_and_target=features_and_target.rename({'case_count':'y'},axis=1)\n",
    "features_and_target1=features_and_target1.rename({'case_count':'y'},axis=1)"
   ]
  },
  {
   "cell_type": "markdown",
   "metadata": {},
   "source": [
    "## Plotting the Features to see trends\n",
    "- Power demand has strong daily and seasonal properties.\n",
    "- Day of week also seems to show differences in peaks"
   ]
  },
  {
   "cell_type": "markdown",
   "metadata": {
    "_uuid": "1c1c9cf0b6c70a8edd221810bb289b8837889288"
   },
   "source": [
    "# Train/Test Split\n",
    "Cut off the data after 2015 to use as our validation set. We will train on earlier data."
   ]
  },
  {
   "cell_type": "code",
   "execution_count": 25,
   "metadata": {},
   "outputs": [
    {
     "data": {
      "text/html": [
       "<div>\n",
       "<style scoped>\n",
       "    .dataframe tbody tr th:only-of-type {\n",
       "        vertical-align: middle;\n",
       "    }\n",
       "\n",
       "    .dataframe tbody tr th {\n",
       "        vertical-align: top;\n",
       "    }\n",
       "\n",
       "    .dataframe thead th {\n",
       "        text-align: right;\n",
       "    }\n",
       "</style>\n",
       "<table border=\"1\" class=\"dataframe\">\n",
       "  <thead>\n",
       "    <tr style=\"text-align: right;\">\n",
       "      <th></th>\n",
       "      <th>dayofweek</th>\n",
       "      <th>quarter</th>\n",
       "      <th>month</th>\n",
       "      <th>year</th>\n",
       "      <th>dayofyear</th>\n",
       "      <th>dayofmonth</th>\n",
       "      <th>weekofyear</th>\n",
       "      <th>y</th>\n",
       "      <th>ds</th>\n",
       "    </tr>\n",
       "  </thead>\n",
       "  <tbody>\n",
       "    <tr>\n",
       "      <th>0</th>\n",
       "      <td>5</td>\n",
       "      <td>3</td>\n",
       "      <td>7</td>\n",
       "      <td>2019</td>\n",
       "      <td>187</td>\n",
       "      <td>6</td>\n",
       "      <td>27</td>\n",
       "      <td>2996.203594</td>\n",
       "      <td>2019-07-06</td>\n",
       "    </tr>\n",
       "    <tr>\n",
       "      <th>2</th>\n",
       "      <td>0</td>\n",
       "      <td>3</td>\n",
       "      <td>7</td>\n",
       "      <td>2019</td>\n",
       "      <td>189</td>\n",
       "      <td>8</td>\n",
       "      <td>28</td>\n",
       "      <td>3794.600600</td>\n",
       "      <td>2019-07-08</td>\n",
       "    </tr>\n",
       "    <tr>\n",
       "      <th>3</th>\n",
       "      <td>1</td>\n",
       "      <td>3</td>\n",
       "      <td>7</td>\n",
       "      <td>2019</td>\n",
       "      <td>190</td>\n",
       "      <td>9</td>\n",
       "      <td>28</td>\n",
       "      <td>3467.728304</td>\n",
       "      <td>2019-07-09</td>\n",
       "    </tr>\n",
       "    <tr>\n",
       "      <th>4</th>\n",
       "      <td>2</td>\n",
       "      <td>3</td>\n",
       "      <td>7</td>\n",
       "      <td>2019</td>\n",
       "      <td>191</td>\n",
       "      <td>10</td>\n",
       "      <td>28</td>\n",
       "      <td>3803.340273</td>\n",
       "      <td>2019-07-10</td>\n",
       "    </tr>\n",
       "    <tr>\n",
       "      <th>5</th>\n",
       "      <td>3</td>\n",
       "      <td>3</td>\n",
       "      <td>7</td>\n",
       "      <td>2019</td>\n",
       "      <td>192</td>\n",
       "      <td>11</td>\n",
       "      <td>28</td>\n",
       "      <td>3737.827113</td>\n",
       "      <td>2019-07-11</td>\n",
       "    </tr>\n",
       "  </tbody>\n",
       "</table>\n",
       "</div>"
      ],
      "text/plain": [
       "   dayofweek  quarter  month  year  dayofyear  dayofmonth  weekofyear  \\\n",
       "0          5        3      7  2019        187           6          27   \n",
       "2          0        3      7  2019        189           8          28   \n",
       "3          1        3      7  2019        190           9          28   \n",
       "4          2        3      7  2019        191          10          28   \n",
       "5          3        3      7  2019        192          11          28   \n",
       "\n",
       "             y         ds  \n",
       "0  2996.203594 2019-07-06  \n",
       "2  3794.600600 2019-07-08  \n",
       "3  3467.728304 2019-07-09  \n",
       "4  3803.340273 2019-07-10  \n",
       "5  3737.827113 2019-07-11  "
      ]
     },
     "execution_count": 25,
     "metadata": {},
     "output_type": "execute_result"
    }
   ],
   "source": [
    "features_and_target.head()"
   ]
  },
  {
   "cell_type": "code",
   "execution_count": 15,
   "metadata": {
    "_uuid": "34eff2dacaab88023207b839a17d5994c4bcff9c"
   },
   "outputs": [],
   "source": [
    "\n",
    "pjme_train = features_and_target[:600].copy()\n",
    "pjme_test = features_and_target[600:].copy()\n",
    "pjme_train1 = features_and_target1[:600].copy()\n",
    "pjme_test1 = features_and_target1[600:].copy()"
   ]
  },
  {
   "cell_type": "markdown",
   "metadata": {
    "_uuid": "e38a95f3bfe84f3e7013bae350093b694aa42513"
   },
   "source": [
    "# Simple Prophet Model\n",
    "- Prophet model expects the dataset to be named a specific way. We will rename our dataframe columns before feeding it into the model."
   ]
  },
  {
   "cell_type": "code",
   "execution_count": 16,
   "metadata": {},
   "outputs": [
    {
     "data": {
      "text/plain": [
       "Index(['dayofweek', 'quarter', 'month', 'year', 'dayofyear', 'dayofmonth',\n",
       "       'weekofyear', 'y', 'ds'],\n",
       "      dtype='object')"
      ]
     },
     "execution_count": 16,
     "metadata": {},
     "output_type": "execute_result"
    }
   ],
   "source": [
    "features_and_target.columns"
   ]
  },
  {
   "cell_type": "code",
   "execution_count": 26,
   "metadata": {},
   "outputs": [],
   "source": [
    "exogenous_features=['dayofweek', 'quarter', 'month', 'year', 'dayofyear', 'dayofmonth',\n",
    "       'weekofyear']"
   ]
  },
  {
   "cell_type": "code",
   "execution_count": 31,
   "metadata": {},
   "outputs": [],
   "source": [
    "model=Prophet()\n",
    "for feature in exogenous_features:\n",
    "     model.add_regressor(feature)"
   ]
  },
  {
   "cell_type": "code",
   "execution_count": null,
   "metadata": {
    "_uuid": "5f4b2a7f2f40037d4414be9f4e9b2255fea9041b"
   },
   "outputs": [],
   "source": [
    "model.fit(pjme_train[[\"ds\", \"y\"] + exogenous_features])\n"
   ]
  },
  {
   "cell_type": "code",
   "execution_count": 35,
   "metadata": {},
   "outputs": [
    {
     "name": "stderr",
     "output_type": "stream",
     "text": [
      "INFO:fbprophet:Disabling yearly seasonality. Run prophet with yearly_seasonality=True to override this.\n",
      "INFO:fbprophet:Disabling daily seasonality. Run prophet with daily_seasonality=True to override this.\n"
     ]
    },
    {
     "data": {
      "text/plain": [
       "<fbprophet.forecaster.Prophet at 0x1902adfd0d0>"
      ]
     },
     "execution_count": 35,
     "metadata": {},
     "output_type": "execute_result"
    }
   ],
   "source": [
    "model1 = Prophet()\n",
    "for feature in exogenous_features:\n",
    "     model1.add_regressor(feature)\n",
    "model1.fit(pjme_train1[[\"ds\", \"y\"] + exogenous_features])"
   ]
  },
  {
   "cell_type": "code",
   "execution_count": 21,
   "metadata": {
    "_uuid": "405772aa3178b8c232b7f52b86399e175691bda7"
   },
   "outputs": [
    {
     "ename": "ValueError",
     "evalue": "Dataframe has no rows.",
     "output_type": "error",
     "traceback": [
      "\u001b[1;31m---------------------------------------------------------------------------\u001b[0m",
      "\u001b[1;31mValueError\u001b[0m                                Traceback (most recent call last)",
      "\u001b[1;32m<ipython-input-21-9db189b0da72>\u001b[0m in \u001b[0;36m<module>\u001b[1;34m\u001b[0m\n\u001b[0;32m      1\u001b[0m \u001b[1;31m# Predict on training set with model\u001b[0m\u001b[1;33m\u001b[0m\u001b[1;33m\u001b[0m\u001b[1;33m\u001b[0m\u001b[0m\n\u001b[1;32m----> 2\u001b[1;33m \u001b[0mpjme_test_fcst\u001b[0m \u001b[1;33m=\u001b[0m \u001b[0mmodel\u001b[0m\u001b[1;33m.\u001b[0m\u001b[0mpredict\u001b[0m\u001b[1;33m(\u001b[0m\u001b[0mpjme_test\u001b[0m\u001b[1;33m)\u001b[0m\u001b[1;33m\u001b[0m\u001b[1;33m\u001b[0m\u001b[0m\n\u001b[0m",
      "\u001b[1;32m~\\Anaconda3\\lib\\site-packages\\fbprophet\\forecaster.py\u001b[0m in \u001b[0;36mpredict\u001b[1;34m(self, df)\u001b[0m\n\u001b[0;32m   1196\u001b[0m         \u001b[1;32melse\u001b[0m\u001b[1;33m:\u001b[0m\u001b[1;33m\u001b[0m\u001b[1;33m\u001b[0m\u001b[0m\n\u001b[0;32m   1197\u001b[0m             \u001b[1;32mif\u001b[0m \u001b[0mdf\u001b[0m\u001b[1;33m.\u001b[0m\u001b[0mshape\u001b[0m\u001b[1;33m[\u001b[0m\u001b[1;36m0\u001b[0m\u001b[1;33m]\u001b[0m \u001b[1;33m==\u001b[0m \u001b[1;36m0\u001b[0m\u001b[1;33m:\u001b[0m\u001b[1;33m\u001b[0m\u001b[1;33m\u001b[0m\u001b[0m\n\u001b[1;32m-> 1198\u001b[1;33m                 \u001b[1;32mraise\u001b[0m \u001b[0mValueError\u001b[0m\u001b[1;33m(\u001b[0m\u001b[1;34m'Dataframe has no rows.'\u001b[0m\u001b[1;33m)\u001b[0m\u001b[1;33m\u001b[0m\u001b[1;33m\u001b[0m\u001b[0m\n\u001b[0m\u001b[0;32m   1199\u001b[0m             \u001b[0mdf\u001b[0m \u001b[1;33m=\u001b[0m \u001b[0mself\u001b[0m\u001b[1;33m.\u001b[0m\u001b[0msetup_dataframe\u001b[0m\u001b[1;33m(\u001b[0m\u001b[0mdf\u001b[0m\u001b[1;33m.\u001b[0m\u001b[0mcopy\u001b[0m\u001b[1;33m(\u001b[0m\u001b[1;33m)\u001b[0m\u001b[1;33m)\u001b[0m\u001b[1;33m\u001b[0m\u001b[1;33m\u001b[0m\u001b[0m\n\u001b[0;32m   1200\u001b[0m \u001b[1;33m\u001b[0m\u001b[0m\n",
      "\u001b[1;31mValueError\u001b[0m: Dataframe has no rows."
     ]
    }
   ],
   "source": [
    "# Predict on training set with model\n",
    "pjme_test_fcst = model.predict(pjme_test)"
   ]
  },
  {
   "cell_type": "code",
   "execution_count": null,
   "metadata": {},
   "outputs": [],
   "source": [
    "pjme_test_fcst1=model1.predict(pjme_test1)"
   ]
  },
  {
   "cell_type": "code",
   "execution_count": null,
   "metadata": {},
   "outputs": [],
   "source": [
    "pjme_test_fcst.head()"
   ]
  },
  {
   "cell_type": "code",
   "execution_count": null,
   "metadata": {
    "_uuid": "833d338eabd9fcfa60544ac1083cdd2638bc19b6"
   },
   "outputs": [],
   "source": [
    "# Plot the forecast\n",
    "f, ax = plt.subplots(1)\n",
    "f.set_figheight(5)\n",
    "f.set_figwidth(15)\n",
    "fig = model.plot(pjme_test_fcst,\n",
    "                 ax=ax)\n",
    "plt.show()"
   ]
  },
  {
   "cell_type": "code",
   "execution_count": null,
   "metadata": {
    "_uuid": "e9ba59e73b6a2f1bd42352c0d976e92420e59188"
   },
   "outputs": [],
   "source": [
    "# Plot the components of the model\n",
    "fig = model.plot_components(pjme_test_fcst)"
   ]
  },
  {
   "cell_type": "markdown",
   "metadata": {
    "_uuid": "6ebd7ee46455deb19f71b4d1be22f4704bd4b0e7"
   },
   "source": [
    "# Compare Forecast to Actuals"
   ]
  },
  {
   "cell_type": "markdown",
   "metadata": {
    "_uuid": "6663468b46437960dc89ac1e0b2becc339e08518"
   },
   "source": [
    "# Look at first month of predictions"
   ]
  },
  {
   "cell_type": "markdown",
   "metadata": {
    "_uuid": "afee1fd1af51635b4ade2e0cc859fa2f25b10fa0"
   },
   "source": [
    "# Error Metrics\n",
    "\n",
    "Our RMSE error is 43761675  \n",
    "Our MAE error is 5181.78  \n",
    "Our MAPE error is 16.5%\n",
    "\n",
    "by comparison in the XGBoost model our errors were significantly less (8.9% MAPE):\n",
    "[Check that out here](https://www.kaggle.com/robikscube/hourly-time-series-forecasting-with-xgboost/)"
   ]
  },
  {
   "cell_type": "code",
   "execution_count": null,
   "metadata": {
    "_uuid": "6ec55915828d4408c87a3210c9b6b0b7a50bb13f"
   },
   "outputs": [],
   "source": [
    "mean_squared_error(y_true=pjme_test['y'],\n",
    "                   y_pred=pjme_test_fcst['yhat'])"
   ]
  },
  {
   "cell_type": "code",
   "execution_count": null,
   "metadata": {
    "_uuid": "fb4a13b9cc4c393b0871d2d51b2bad5e46175c10"
   },
   "outputs": [],
   "source": [
    "mean_absolute_error(y_true=pjme_test['y'],\n",
    "                   y_pred=pjme_test_fcst['yhat'])"
   ]
  },
  {
   "cell_type": "code",
   "execution_count": null,
   "metadata": {
    "_uuid": "df24f32f4fb0fffbe4fe6cd6c965d67151886ea5"
   },
   "outputs": [],
   "source": [
    "def mean_absolute_percentage_error(y_true, y_pred): \n",
    "    \"\"\"Calculates MAPE given y_true and y_pred\"\"\"\n",
    "    y_true, y_pred = np.array(y_true), np.array(y_pred)\n",
    "    return np.mean(np.abs((y_true - y_pred) / y_true)) * 100\n",
    "\n",
    "mean_absolute_percentage_error(y_true=pjme_test['y'],\n",
    "                   y_pred=pjme_test_fcst['yhat'])"
   ]
  },
  {
   "cell_type": "code",
   "execution_count": null,
   "metadata": {},
   "outputs": [],
   "source": [
    "mean_absolute_percentage_error(y_true=pjme_test1['y'],\n",
    "                   y_pred=pjme_test_fcst1['yhat'])"
   ]
  },
  {
   "cell_type": "markdown",
   "metadata": {
    "_uuid": "c6b37d1d6c5e855b80fab4b063c56265d4cc617b"
   },
   "source": [
    "# Adding Holidays\n",
    "Next we will see if adding holiday indicators will help the accuracy of the model. Prophet comes with a *Holiday Effects* parameter that can be provided to the model prior to training. \n",
    "\n",
    "We will use the built in pandas `USFederalHolidayCalendar` to pull the list of holidays"
   ]
  },
  {
   "cell_type": "code",
   "execution_count": 36,
   "metadata": {},
   "outputs": [
    {
     "name": "stdout",
     "output_type": "stream",
     "text": [
      "Requirement already satisfied: holidays in c:\\users\\yugan\\anaconda3\\lib\\site-packages (0.10.5.2)\n",
      "Requirement already satisfied: korean-lunar-calendar in c:\\users\\yugan\\anaconda3\\lib\\site-packages (from holidays) (0.2.1)\n",
      "Requirement already satisfied: hijri-converter in c:\\users\\yugan\\anaconda3\\lib\\site-packages (from holidays) (2.1.1)\n",
      "Requirement already satisfied: convertdate>=2.3.0 in c:\\users\\yugan\\anaconda3\\lib\\site-packages (from holidays) (2.3.2)\n",
      "Requirement already satisfied: six in c:\\users\\yugan\\anaconda3\\lib\\site-packages (from holidays) (1.15.0)\n",
      "Requirement already satisfied: python-dateutil in c:\\users\\yugan\\anaconda3\\lib\\site-packages (from holidays) (2.8.1)\n",
      "Requirement already satisfied: pytz>=2014.10 in c:\\users\\yugan\\anaconda3\\lib\\site-packages (from convertdate>=2.3.0->holidays) (2020.1)\n",
      "Requirement already satisfied: pymeeus<=1,>=0.3.13 in c:\\users\\yugan\\anaconda3\\lib\\site-packages (from convertdate>=2.3.0->holidays) (0.5.11)\n"
     ]
    }
   ],
   "source": [
    "!pip install holidays"
   ]
  },
  {
   "cell_type": "code",
   "execution_count": 37,
   "metadata": {},
   "outputs": [],
   "source": [
    "import holidays\n",
    "holidays=pd.DataFrame({'ds':list(holidays.IND(years=[2017,2018,2019,2020]).keys()),'holiday':list(holidays.IND(years=[2017,2018,2019,2020]).values())})"
   ]
  },
  {
   "cell_type": "code",
   "execution_count": 38,
   "metadata": {
    "_uuid": "457b4a8814463e7885d210fc4d193cc5ddf261d0"
   },
   "outputs": [
    {
     "name": "stderr",
     "output_type": "stream",
     "text": [
      "INFO:fbprophet:Disabling yearly seasonality. Run prophet with yearly_seasonality=True to override this.\n",
      "INFO:fbprophet:Disabling daily seasonality. Run prophet with daily_seasonality=True to override this.\n"
     ]
    },
    {
     "data": {
      "text/plain": [
       "<fbprophet.forecaster.Prophet at 0x1902adfd310>"
      ]
     },
     "execution_count": 38,
     "metadata": {},
     "output_type": "execute_result"
    }
   ],
   "source": [
    "\n",
    "model_with_holidays = Prophet(holidays=holidays)\n",
    "for feature in exogenous_features:\n",
    "    model_with_holidays.add_regressor(feature)\n",
    "model_with_holidays.fit(pjme_train[[\"ds\", \"y\"] + exogenous_features])\n",
    "# Setup and train model with holidaysmodel = Prophet()"
   ]
  },
  {
   "cell_type": "markdown",
   "metadata": {},
   "source": [
    "## Predict With Holidays"
   ]
  },
  {
   "cell_type": "code",
   "execution_count": 39,
   "metadata": {},
   "outputs": [
    {
     "ename": "ValueError",
     "evalue": "Dataframe has no rows.",
     "output_type": "error",
     "traceback": [
      "\u001b[1;31m---------------------------------------------------------------------------\u001b[0m",
      "\u001b[1;31mValueError\u001b[0m                                Traceback (most recent call last)",
      "\u001b[1;32m<ipython-input-39-35b4ae8c7f78>\u001b[0m in \u001b[0;36m<module>\u001b[1;34m\u001b[0m\n\u001b[0;32m      1\u001b[0m \u001b[1;31m# Predict on training set with model\u001b[0m\u001b[1;33m\u001b[0m\u001b[1;33m\u001b[0m\u001b[1;33m\u001b[0m\u001b[0m\n\u001b[0;32m      2\u001b[0m \u001b[0mpjme_test_fcst_with_hols\u001b[0m \u001b[1;33m=\u001b[0m\u001b[0;31m \u001b[0m\u001b[0;31m\\\u001b[0m\u001b[1;33m\u001b[0m\u001b[1;33m\u001b[0m\u001b[0m\n\u001b[1;32m----> 3\u001b[1;33m     \u001b[0mmodel_with_holidays\u001b[0m\u001b[1;33m.\u001b[0m\u001b[0mpredict\u001b[0m\u001b[1;33m(\u001b[0m\u001b[0mpjme_test\u001b[0m\u001b[1;33m)\u001b[0m\u001b[1;33m\u001b[0m\u001b[1;33m\u001b[0m\u001b[0m\n\u001b[0m",
      "\u001b[1;32m~\\Anaconda3\\lib\\site-packages\\fbprophet\\forecaster.py\u001b[0m in \u001b[0;36mpredict\u001b[1;34m(self, df)\u001b[0m\n\u001b[0;32m   1196\u001b[0m         \u001b[1;32melse\u001b[0m\u001b[1;33m:\u001b[0m\u001b[1;33m\u001b[0m\u001b[1;33m\u001b[0m\u001b[0m\n\u001b[0;32m   1197\u001b[0m             \u001b[1;32mif\u001b[0m \u001b[0mdf\u001b[0m\u001b[1;33m.\u001b[0m\u001b[0mshape\u001b[0m\u001b[1;33m[\u001b[0m\u001b[1;36m0\u001b[0m\u001b[1;33m]\u001b[0m \u001b[1;33m==\u001b[0m \u001b[1;36m0\u001b[0m\u001b[1;33m:\u001b[0m\u001b[1;33m\u001b[0m\u001b[1;33m\u001b[0m\u001b[0m\n\u001b[1;32m-> 1198\u001b[1;33m                 \u001b[1;32mraise\u001b[0m \u001b[0mValueError\u001b[0m\u001b[1;33m(\u001b[0m\u001b[1;34m'Dataframe has no rows.'\u001b[0m\u001b[1;33m)\u001b[0m\u001b[1;33m\u001b[0m\u001b[1;33m\u001b[0m\u001b[0m\n\u001b[0m\u001b[0;32m   1199\u001b[0m             \u001b[0mdf\u001b[0m \u001b[1;33m=\u001b[0m \u001b[0mself\u001b[0m\u001b[1;33m.\u001b[0m\u001b[0msetup_dataframe\u001b[0m\u001b[1;33m(\u001b[0m\u001b[0mdf\u001b[0m\u001b[1;33m.\u001b[0m\u001b[0mcopy\u001b[0m\u001b[1;33m(\u001b[0m\u001b[1;33m)\u001b[0m\u001b[1;33m)\u001b[0m\u001b[1;33m\u001b[0m\u001b[1;33m\u001b[0m\u001b[0m\n\u001b[0;32m   1200\u001b[0m \u001b[1;33m\u001b[0m\u001b[0m\n",
      "\u001b[1;31mValueError\u001b[0m: Dataframe has no rows."
     ]
    }
   ],
   "source": [
    "# Predict on training set with model\n",
    "pjme_test_fcst_with_hols = \\\n",
    "    model_with_holidays.predict(pjme_test)"
   ]
  },
  {
   "cell_type": "markdown",
   "metadata": {
    "_uuid": "da13b6f30bc01650d446626f6351ede47f663aea"
   },
   "source": [
    "## Plot Holiday Effect"
   ]
  },
  {
   "cell_type": "code",
   "execution_count": null,
   "metadata": {
    "_uuid": "d15a2b9eaeb27c947606b55e87c6dfb644e45f92"
   },
   "outputs": [],
   "source": [
    "fig2 = model_with_holidays.plot_components(pjme_test_fcst_with_hols)"
   ]
  },
  {
   "cell_type": "markdown",
   "metadata": {},
   "source": [
    "# Error Metrics with Holidays Added\n",
    "Suprisingly the error has gotten worse after adding holidays."
   ]
  },
  {
   "cell_type": "code",
   "execution_count": null,
   "metadata": {},
   "outputs": [],
   "source": [
    "mean_squared_error(y_true=pjme_test['y'],\n",
    "                   y_pred=pjme_test_fcst_with_hols['yhat'])"
   ]
  },
  {
   "cell_type": "code",
   "execution_count": null,
   "metadata": {},
   "outputs": [],
   "source": [
    "mean_absolute_error(y_true=pjme_test['y'],\n",
    "                   y_pred=pjme_test_fcst_with_hols['yhat'])"
   ]
  },
  {
   "cell_type": "code",
   "execution_count": null,
   "metadata": {},
   "outputs": [],
   "source": [
    "def mean_absolute_percentage_error(y_true, y_pred): \n",
    "    \"\"\"Calculates MAPE given y_true and y_pred\"\"\"\n",
    "    y_true, y_pred = np.array(y_true), np.array(y_pred)\n",
    "    return np.mean(np.abs((y_true - y_pred) / y_true)) * 100\n",
    "\n",
    "mean_absolute_percentage_error(y_true=pjme_test['y'],\n",
    "                   y_pred=pjme_test_fcst_with_hols['yhat'])"
   ]
  },
  {
   "cell_type": "code",
   "execution_count": null,
   "metadata": {},
   "outputs": [],
   "source": [
    "pjme_test_fcst_with_hols[pjme_test_fcst_with_hols['yhat']<0]"
   ]
  },
  {
   "cell_type": "code",
   "execution_count": null,
   "metadata": {},
   "outputs": [],
   "source": [
    "test = pd.read_csv(\"../input/test-data/test.csv\")\n",
    "test1=test[test['segment']==1].copy()\n",
    "test2=test[test['segment']==2].copy()\n",
    "test1['application_date']=test1['application_date'].astype('datetime64')\n",
    "test2['application_date']=test2['application_date'].astype('datetime64')"
   ]
  },
  {
   "cell_type": "code",
   "execution_count": null,
   "metadata": {},
   "outputs": [],
   "source": [
    "def create_features(df, label=None):\n",
    "    \"\"\"\n",
    "    Creates time series features from application_datetime index.\n",
    "    \"\"\"\n",
    "    df = df.copy()\n",
    "  \n",
    "    df['dayofweek'] = df['application_date'].dt.dayofweek\n",
    "    df['quarter'] = df['application_date'].dt.quarter\n",
    "    df['month'] = df['application_date'].dt.month\n",
    "    df['year'] = df['application_date'].dt.year\n",
    "    df['dayofyear'] = df['application_date'].dt.dayofyear\n",
    "    df['dayofmonth'] = df['application_date'].dt.day\n",
    "    df['weekofyear'] = df['application_date'].dt.weekofyear\n",
    "    \n",
    "    X = df[['dayofweek','quarter','month','year',\n",
    "           'dayofyear','dayofmonth','weekofyear']]\n",
    "    if label:\n",
    "        y = df[label]\n",
    "        return X, y\n",
    "    return X\n",
    "\n",
    "X= create_features(test1)\n",
    "\n"
   ]
  },
  {
   "cell_type": "code",
   "execution_count": null,
   "metadata": {},
   "outputs": [],
   "source": [
    "test1"
   ]
  },
  {
   "cell_type": "code",
   "execution_count": null,
   "metadata": {},
   "outputs": [],
   "source": [
    "X1= create_features(test2)"
   ]
  },
  {
   "cell_type": "code",
   "execution_count": null,
   "metadata": {},
   "outputs": [],
   "source": [
    "X1"
   ]
  },
  {
   "cell_type": "code",
   "execution_count": null,
   "metadata": {},
   "outputs": [],
   "source": [
    "test2"
   ]
  },
  {
   "cell_type": "code",
   "execution_count": null,
   "metadata": {},
   "outputs": [],
   "source": [
    "X['ds']=test1['application_date'].astype('datetime64')\n",
    "X1['ds']=test2['application_date'].astype('datetime64')"
   ]
  },
  {
   "cell_type": "code",
   "execution_count": null,
   "metadata": {},
   "outputs": [],
   "source": []
  },
  {
   "cell_type": "code",
   "execution_count": null,
   "metadata": {},
   "outputs": [],
   "source": [
    "predict=model.predict(X)"
   ]
  },
  {
   "cell_type": "code",
   "execution_count": null,
   "metadata": {},
   "outputs": [],
   "source": [
    "predict1=model.predict(X1)"
   ]
  },
  {
   "cell_type": "code",
   "execution_count": null,
   "metadata": {},
   "outputs": [],
   "source": [
    "predict[predict['yhat']<0]"
   ]
  },
  {
   "cell_type": "code",
   "execution_count": null,
   "metadata": {},
   "outputs": [],
   "source": [
    "predict1[predict1['yhat']<0]"
   ]
  },
  {
   "cell_type": "code",
   "execution_count": null,
   "metadata": {},
   "outputs": [],
   "source": [
    "final=pd.concat([predict,predict1])"
   ]
  },
  {
   "cell_type": "code",
   "execution_count": null,
   "metadata": {},
   "outputs": [],
   "source": [
    "final"
   ]
  },
  {
   "cell_type": "code",
   "execution_count": null,
   "metadata": {},
   "outputs": [],
   "source": [
    "test"
   ]
  },
  {
   "cell_type": "code",
   "execution_count": null,
   "metadata": {},
   "outputs": [],
   "source": [
    "final=final.reset_index()"
   ]
  },
  {
   "cell_type": "code",
   "execution_count": null,
   "metadata": {},
   "outputs": [],
   "source": [
    "test['case_count']=final['yhat']\n",
    "\n"
   ]
  },
  {
   "cell_type": "code",
   "execution_count": null,
   "metadata": {},
   "outputs": [],
   "source": [
    "test.to_csv('submission.csv',index=False)"
   ]
  },
  {
   "cell_type": "code",
   "execution_count": null,
   "metadata": {},
   "outputs": [],
   "source": []
  },
  {
   "cell_type": "code",
   "execution_count": null,
   "metadata": {},
   "outputs": [],
   "source": []
  }
 ],
 "metadata": {
  "kernelspec": {
   "display_name": "Python 3",
   "language": "python",
   "name": "python3"
  },
  "language_info": {
   "codemirror_mode": {
    "name": "ipython",
    "version": 3
   },
   "file_extension": ".py",
   "mimetype": "text/x-python",
   "name": "python",
   "nbconvert_exporter": "python",
   "pygments_lexer": "ipython3",
   "version": "3.8.5"
  }
 },
 "nbformat": 4,
 "nbformat_minor": 1
}
